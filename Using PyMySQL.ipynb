{
 "cells": [
  {
   "cell_type": "markdown",
   "metadata": {},
   "source": [
    "PYMYSQL\n",
    "=======\n",
    "\n",
    "For the PAV project (late 2016), I need to create a database in which to store the data from the many (many) xml files downloaded via Gateway to Research's API.\n",
    "\n",
    "Tutorials:\n",
    "- Using MySQL (Windows generic): http://dev.mysql.com/doc/mysql-getting-started/en/\n",
    "- Using PyMySQL: https://www.tutorialspoint.com/python3/python_database_access.htm\n",
    "\n",
    "For now, I have created a database called 'test' containing a table 'grants'..."
   ]
  },
  {
   "cell_type": "markdown",
   "metadata": {},
   "source": [
    "Hello World\n",
    "-----------\n",
    "\n",
    "Open database, say hello, check version, leave"
   ]
  },
  {
   "cell_type": "code",
   "execution_count": 7,
   "metadata": {
    "collapsed": false
   },
   "outputs": [
    {
     "name": "stdout",
     "output_type": "stream",
     "text": [
      "Database version : 5.7.16-log \n"
     ]
    }
   ],
   "source": [
    "import pymysql\n",
    "\n",
    "# Open database connection (fingers crossed)\n",
    "db = pymysql.connect(\"localhost\",\"root\",\"pavproject\",\"test\" )\n",
    "\n",
    "# Prepare a cursor object\n",
    "cursor = db.cursor()\n",
    "\n",
    "# Execute a SQL query\n",
    "cursor.execute(\"SELECT VERSION()\")\n",
    "\n",
    "# Fetch a single row\n",
    "data = cursor.fetchone()\n",
    "\n",
    "print(\"Database version : %s \" % data)\n",
    "\n",
    "# Disconnect\n",
    "db.close()"
   ]
  },
  {
   "cell_type": "markdown",
   "metadata": {},
   "source": [
    "Creating Database Tables\n",
    "----------------\n",
    "\n",
    "Open database, create table if does not exist, leave"
   ]
  },
  {
   "cell_type": "code",
   "execution_count": 9,
   "metadata": {
    "collapsed": false
   },
   "outputs": [],
   "source": [
    "import pymysql\n",
    "\n",
    "# Open database connection (fingers crossed)\n",
    "db = pymysql.connect(\"localhost\",\"root\",\"pavproject\",\"test\" )\n",
    "\n",
    "# Prepare a cursor object\n",
    "cursor = db.cursor()\n",
    "\n",
    "# Drop table if it already exists\n",
    "cursor.execute(\"DROP TABLE IF EXISTS persons\")\n",
    "\n",
    "# Otherwise, create the table\n",
    "sql = \"\"\" CREATE TABLE persons (\n",
    "          FIRST_NAME CHAR(50) NOT NULL,\n",
    "          LAST_NAME CHAR(50) NOT NULL,\n",
    "          EMPLOYER_ID CHAR(40) NOT NULL\n",
    "          );\n",
    "      \"\"\"\n",
    "\n",
    "cursor.execute(sql)\n",
    "\n",
    "# Disconnect\n",
    "db.close()"
   ]
  },
  {
   "cell_type": "markdown",
   "metadata": {},
   "source": [
    "Inserting Data into Table\n",
    "---------------\n",
    "Open database, insert data, roll back quickly if errors, leave"
   ]
  },
  {
   "cell_type": "code",
   "execution_count": 10,
   "metadata": {
    "collapsed": true
   },
   "outputs": [],
   "source": [
    "import pymysql\n",
    "\n",
    "# Open database connection (fingers crossed)\n",
    "db = pymysql.connect(\"localhost\",\"root\",\"pavproject\",\"test\" )\n",
    "\n",
    "# Prepare a cursor object\n",
    "cursor = db.cursor()\n",
    "\n",
    "# SQL code to insert record into databse\n",
    "sql =   \"\"\" INSERT INTO persons(FIRST_NAME, LAST_NAME, EMPLOYER_ID)\n",
    "            VALUES ('Emma', 'Tattershall', 'D7F4F462-0518-4784-908A-D12633C139B3');\n",
    "        \"\"\"\n",
    "\n",
    "try:\n",
    "    cursor.execute(sql)\n",
    "    db.commit()\n",
    "except:\n",
    "    db.rollback()\n",
    "\n",
    "\n",
    "# Disconnect\n",
    "db.close()"
   ]
  },
  {
   "cell_type": "markdown",
   "metadata": {},
   "source": [
    "Reading Data from Table\n",
    "---------------\n",
    "Open database, read data, leave"
   ]
  },
  {
   "cell_type": "code",
   "execution_count": 15,
   "metadata": {
    "collapsed": false
   },
   "outputs": [
    {
     "name": "stdout",
     "output_type": "stream",
     "text": [
      "(('Emma', 'Tattershall', 'D7F4F462-0518-4784-908A-D12633C139B3'),)\n"
     ]
    }
   ],
   "source": [
    "import pymysql\n",
    "\n",
    "# Open database connection (fingers crossed)\n",
    "db = pymysql.connect(\"localhost\",\"root\",\"pavproject\",\"test\" )\n",
    "\n",
    "# Prepare a cursor object\n",
    "cursor = db.cursor()\n",
    "\n",
    "# SQL code to read records from table persons\n",
    "sql = \"\"\" SELECT * FROM  persons \"\"\"\n",
    "\n",
    "# Execute, fetch, display\n",
    "cursor.execute(sql)\n",
    "data = cursor.fetchall()\n",
    "\n",
    "print(data)\n",
    "\n",
    "# Disconnect\n",
    "db.close()"
   ]
  },
  {
   "cell_type": "code",
   "execution_count": null,
   "metadata": {
    "collapsed": true
   },
   "outputs": [],
   "source": []
  }
 ],
 "metadata": {
  "anaconda-cloud": {},
  "kernelspec": {
   "display_name": "Python [conda root]",
   "language": "python",
   "name": "conda-root-py"
  },
  "language_info": {
   "codemirror_mode": {
    "name": "ipython",
    "version": 3
   },
   "file_extension": ".py",
   "mimetype": "text/x-python",
   "name": "python",
   "nbconvert_exporter": "python",
   "pygments_lexer": "ipython3",
   "version": "3.5.2"
  }
 },
 "nbformat": 4,
 "nbformat_minor": 1
}
