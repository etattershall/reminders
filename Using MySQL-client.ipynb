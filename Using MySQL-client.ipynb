{
 "cells": [
  {
   "cell_type": "markdown",
   "metadata": {},
   "source": [
    "Using MySQL\n",
    "----------------\n",
    "\n",
    "This file shows an example of using MySQL in Python. The version of MYSQl I am using is XAMPP on Windows, and the connector I am using is mysqlclient. \n",
    "\n",
    "\n",
    "The connector turned out to be a real bitch to install -- there was some problem with having the wrong version of MS Visual studio C++ 14.0 (which I then installed, very painstakingly, only to be told there was now some problem with cl.exe. This answer worked: http://stackoverflow.com/questions/26866147/mysql-python-install-fatal-error - download the mysqlclient-1.3.9-cp35-cp35m-win_amd64.whl file from the site (takes a while), navigate to the folder you placed it in and install with pip. Then restart.\n",
    "\n",
    "\n",
    "The database I am using can be found at http://localhost/phpmyadmin. Remember to start the server and database first from the xampp control panel!"
   ]
  },
  {
   "cell_type": "code",
   "execution_count": 9,
   "metadata": {
    "collapsed": false
   },
   "outputs": [],
   "source": [
    "import _mysql\n",
    "db=_mysql.connect(user=\"root\",passwd=\"\",db=\"test\")"
   ]
  },
  {
   "cell_type": "markdown",
   "metadata": {},
   "source": [
    "**Show all tables**\n"
   ]
  },
  {
   "cell_type": "code",
   "execution_count": 44,
   "metadata": {
    "collapsed": false
   },
   "outputs": [
    {
     "data": {
      "text/plain": [
       "((b'animals',),)"
      ]
     },
     "execution_count": 44,
     "metadata": {},
     "output_type": "execute_result"
    }
   ],
   "source": [
    "db.query(\"\"\"SHOW TABLES\"\"\")\n",
    "r=db.store_result()\n",
    "r.fetch_row(maxrows=0)"
   ]
  },
  {
   "cell_type": "markdown",
   "metadata": {},
   "source": [
    "**Show all records in table**"
   ]
  },
  {
   "cell_type": "code",
   "execution_count": 47,
   "metadata": {
    "collapsed": false
   },
   "outputs": [
    {
     "data": {
      "text/plain": [
       "((b'Cat', '12', b'Henry', b'Orange'),\n",
       " (b'Dog', '3', b'Simon', b'Black'),\n",
       " (b'Parrot', '4', b'Alice', b'Green'))"
      ]
     },
     "execution_count": 47,
     "metadata": {},
     "output_type": "execute_result"
    }
   ],
   "source": [
    "db.query(\"\"\"SELECT * FROM animals`\"\"\")\n",
    "r=db.store_result()\n",
    "r.fetch_row(maxrows=0)"
   ]
  },
  {
   "cell_type": "markdown",
   "metadata": {},
   "source": [
    "**Select a column in table and read all values**"
   ]
  },
  {
   "cell_type": "code",
   "execution_count": 46,
   "metadata": {
    "collapsed": false
   },
   "outputs": [
    {
     "data": {
      "text/plain": [
       "((b'Cat',), (b'Dog',), (b'Parrot',))"
      ]
     },
     "execution_count": 46,
     "metadata": {},
     "output_type": "execute_result"
    }
   ],
   "source": [
    "db.query(\"\"\"SELECT type FROM animals\"\"\")\n",
    "r=db.store_result()\n",
    "r.fetch_row(maxrows=0)"
   ]
  },
  {
   "cell_type": "markdown",
   "metadata": {},
   "source": [
    "**Select all database based on some criteria**"
   ]
  },
  {
   "cell_type": "code",
   "execution_count": 49,
   "metadata": {
    "collapsed": false
   },
   "outputs": [
    {
     "data": {
      "text/plain": [
       "((b'Cat', '12', b'Henry', b'Orange'), (b'Parrot', '4', b'Alice', b'Green'))"
      ]
     },
     "execution_count": 49,
     "metadata": {},
     "output_type": "execute_result"
    }
   ],
   "source": [
    "db.query(\"\"\"SELECT * FROM animals WHERE age>3\"\"\")\n",
    "r=db.store_result()\n",
    "r.fetch_row(maxrows=0)"
   ]
  },
  {
   "cell_type": "markdown",
   "metadata": {},
   "source": [
    "**Insert row into database**"
   ]
  },
  {
   "cell_type": "code",
   "execution_count": 52,
   "metadata": {
    "collapsed": false
   },
   "outputs": [],
   "source": [
    "db.query(\"\"\"INSERT INTO animals (type, age, name, colour) VALUES ('Monkey', '7', 'Becky', 'Brown')\"\"\")"
   ]
  },
  {
   "cell_type": "code",
   "execution_count": null,
   "metadata": {
    "collapsed": true
   },
   "outputs": [],
   "source": [
    "import "
   ]
  }
 ],
 "metadata": {
  "anaconda-cloud": {},
  "kernelspec": {
   "display_name": "Python [conda root]",
   "language": "python",
   "name": "conda-root-py"
  },
  "language_info": {
   "codemirror_mode": {
    "name": "ipython",
    "version": 3
   },
   "file_extension": ".py",
   "mimetype": "text/x-python",
   "name": "python",
   "nbconvert_exporter": "python",
   "pygments_lexer": "ipython3",
   "version": "3.5.2"
  }
 },
 "nbformat": 4,
 "nbformat_minor": 1
}
