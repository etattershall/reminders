{
 "cells": [
  {
   "cell_type": "markdown",
   "metadata": {},
   "source": [
    "Type/Format conversions\n",
    "=================\n",
    "\n",
    "- String to XML\n",
    "- XML to Dict\n",
    "- Dict to String (JSON)\n",
    "- String to Dict (JSON)\n"
   ]
  },
  {
   "cell_type": "code",
   "execution_count": null,
   "metadata": {
    "collapsed": true
   },
   "outputs": [],
   "source": []
  },
  {
   "cell_type": "markdown",
   "metadata": {},
   "source": [
    "Convert string to XML\n",
    "------------"
   ]
  },
  {
   "cell_type": "code",
   "execution_count": 15,
   "metadata": {
    "collapsed": false
   },
   "outputs": [],
   "source": [
    "from xml.etree.ElementTree import fromstring\n",
    "\n",
    "xml_string = \"\"\"\n",
    "<data>\n",
    "    <country name=\"Liechtenstein\">\n",
    "        <rank>1</rank>\n",
    "    </country>\n",
    "    <country name=\"Singapore\">\n",
    "        <rank>4</rank>\n",
    "    </country>\n",
    "</data>\n",
    "\"\"\"\n",
    "\n",
    "root = ET.fromstring(xml_string)"
   ]
  },
  {
   "cell_type": "markdown",
   "metadata": {},
   "source": [
    "Convert XML to Dict\n",
    "----------------\n",
    "\n",
    "https://pypi.python.org/pypi/xmltodict\n",
    "\n",
    "Use 'xmltodict'. If not installed, open command prompt and 'pip install xmltodict'"
   ]
  },
  {
   "cell_type": "code",
   "execution_count": 18,
   "metadata": {
    "collapsed": false
   },
   "outputs": [
    {
     "data": {
      "text/plain": [
       "OrderedDict([('data',\n",
       "              OrderedDict([('country',\n",
       "                            [OrderedDict([('@name', 'Liechtenstein'),\n",
       "                                          ('rank', '1')]),\n",
       "                             OrderedDict([('@name', 'Singapore'),\n",
       "                                          ('rank', '4')])])]))])"
      ]
     },
     "execution_count": 18,
     "metadata": {},
     "output_type": "execute_result"
    }
   ],
   "source": [
    "import xmltodict\n",
    "xml_string = \"\"\"\n",
    "<data>\n",
    "    <country name=\"Liechtenstein\">\n",
    "        <rank>1</rank>\n",
    "    </country>\n",
    "    <country name=\"Singapore\">\n",
    "        <rank>4</rank>\n",
    "    </country>\n",
    "</data>\n",
    "\"\"\"\n",
    "xmltodict.parse(xml_string)\n",
    "\n",
    "# To then store as json dict...\n",
    "# from json import dumps\n",
    "# dumps(xmltodict.parse(xml_string))"
   ]
  },
  {
   "cell_type": "markdown",
   "metadata": {},
   "source": [
    "Convert Dict to String\n",
    "--------------\n"
   ]
  },
  {
   "cell_type": "code",
   "execution_count": 21,
   "metadata": {
    "collapsed": false
   },
   "outputs": [
    {
     "data": {
      "text/plain": [
       "'{\"data\": {\"country\": [{\"@name\": \"Liechtenstein\", \"rank\": \"1\"}, {\"@name\": \"Singapore\", \"rank\": \"4\"}]}}'"
      ]
     },
     "execution_count": 21,
     "metadata": {},
     "output_type": "execute_result"
    }
   ],
   "source": [
    "from json import dumps\n",
    "\n",
    "my_dict = {\"name\": \"Emma\", \"age\": 23, \"homes\": [\"Caistor\", \"Abingdon\"]}\n",
    "dumps(my_dict)"
   ]
  },
  {
   "cell_type": "markdown",
   "metadata": {},
   "source": [
    "Convert String to Dict\n",
    "-------------------"
   ]
  },
  {
   "cell_type": "code",
   "execution_count": 20,
   "metadata": {
    "collapsed": false
   },
   "outputs": [
    {
     "data": {
      "text/plain": [
       "{'menu': {'id': 'file',\n",
       "  'popup': {'menuitem': [{'onclick': 'CreateNewDoc()', 'value': 'New'},\n",
       "    {'onclick': 'OpenDoc()', 'value': 'Open'},\n",
       "    {'onclick': 'CloseDoc()', 'value': 'Close'}]},\n",
       "  'value': 'File'}}"
      ]
     },
     "execution_count": 20,
     "metadata": {},
     "output_type": "execute_result"
    }
   ],
   "source": [
    "string = \"\"\"\n",
    "{\"menu\": {\n",
    "  \"id\": \"file\",\n",
    "  \"value\": \"File\",\n",
    "  \"popup\": {\n",
    "    \"menuitem\": [\n",
    "      {\"value\": \"New\", \"onclick\": \"CreateNewDoc()\"},\n",
    "      {\"value\": \"Open\", \"onclick\": \"OpenDoc()\"},\n",
    "      {\"value\": \"Close\", \"onclick\": \"CloseDoc()\"}\n",
    "    ]\n",
    "  }\n",
    "}}\n",
    "\"\"\"\n",
    "\n",
    "from json import loads\n",
    "loads(string)"
   ]
  },
  {
   "cell_type": "code",
   "execution_count": null,
   "metadata": {
    "collapsed": true
   },
   "outputs": [],
   "source": []
  }
 ],
 "metadata": {
  "kernelspec": {
   "display_name": "Python [conda root]",
   "language": "python",
   "name": "conda-root-py"
  },
  "language_info": {
   "codemirror_mode": {
    "name": "ipython",
    "version": 3
   },
   "file_extension": ".py",
   "mimetype": "text/x-python",
   "name": "python",
   "nbconvert_exporter": "python",
   "pygments_lexer": "ipython3",
   "version": "3.5.2"
  }
 },
 "nbformat": 4,
 "nbformat_minor": 1
}
