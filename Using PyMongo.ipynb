{
 "cells": [
  {
   "cell_type": "markdown",
   "metadata": {},
   "source": [
    "Interfacing with MongoDB via Python's PyMongo\n",
    "===================\n",
    "\n",
    "MongoDB is a popular NoSQL document-based database.\n",
    "\n",
    "We will be interfacing with it using PyMongo, following this tutorial: https://docs.mongodb.com/getting-started/python/client/\n",
    "\n",
    "Before using this notebook, please ensure that you have installed and setup MongoDB (instructions provided in \"Using MongoDB.docx\")\n",
    "\n",
    "Also, you should have at least one terminal open, running \"mongod.exe\", as described in the Word document"
   ]
  },
  {
   "cell_type": "code",
   "execution_count": 4,
   "metadata": {
    "collapsed": true
   },
   "outputs": [],
   "source": [
    "\"\"\"\n",
    "Import PyMongo and connect to the required instance of MongoDB\n",
    "\"\"\"\n",
    "from pymongo import MongoClient\n",
    "\n",
    "# Create a connection\n",
    "# After running this cell, you should see a line like \n",
    "# \"[initandlisten] connection accepted from 127.0.0.1:58710 #7 (2 connections now open)\"\n",
    "# appear on the command prompt\n",
    "client = MongoClient()\n",
    "\n",
    "# The line above defaults to a MongoDB instance that runs on the localhost interface on port 27017\n",
    "# If, for example, we wanted to connect to an instance running on mongodb0.example.net on port 27017:\n",
    "#client = MongoClient(\"mongodb://mongodb0.example.net:27017\")\n"
   ]
  },
  {
   "cell_type": "code",
   "execution_count": 5,
   "metadata": {
    "collapsed": true
   },
   "outputs": [],
   "source": [
    "\"\"\"\n",
    "Access database objects\n",
    "\n",
    "Note that MongoDB creates new databases implicitly when they are first used.\n",
    "\"\"\"\n",
    "\n",
    "# Create/access a database called \"primer\"\n",
    "db = client.primer\n",
    "\n",
    "# Create/access a collection within primer\n",
    "# We use dictionary notation below, but db.dataset is equivalent\n",
    "coll = db['dataset']"
   ]
  },
  {
   "cell_type": "code",
   "execution_count": 7,
   "metadata": {
    "collapsed": false
   },
   "outputs": [
    {
     "ename": "DuplicateKeyError",
     "evalue": "E11000 duplicate key error collection: primer.restaurants index: _id_ dup key: { : \"CCCCCC-111111-222222-EEEEEE\" }",
     "output_type": "error",
     "traceback": [
      "\u001b[0;31m---------------------------------------------------------------------------\u001b[0m",
      "\u001b[0;31mDuplicateKeyError\u001b[0m                         Traceback (most recent call last)",
      "\u001b[0;32m<ipython-input-7-e28a9e247fa0>\u001b[0m in \u001b[0;36m<module>\u001b[0;34m()\u001b[0m\n\u001b[1;32m     23\u001b[0m         ],\n\u001b[1;32m     24\u001b[0m         \u001b[1;34m\"name\"\u001b[0m\u001b[1;33m:\u001b[0m \u001b[1;34m\"Mama Ji's\"\u001b[0m\u001b[1;33m,\u001b[0m\u001b[1;33m\u001b[0m\u001b[0m\n\u001b[0;32m---> 25\u001b[0;31m         \u001b[1;34m\"restaurant_id\"\u001b[0m\u001b[1;33m:\u001b[0m \u001b[1;34m\"41704620\"\u001b[0m\u001b[1;33m\u001b[0m\u001b[0m\n\u001b[0m\u001b[1;32m     26\u001b[0m     }\n\u001b[1;32m     27\u001b[0m )\n",
      "\u001b[0;32mC:\\Users\\rbl46509\\AppData\\Local\\Continuum\\Anaconda3\\lib\\site-packages\\pymongo\\collection.py\u001b[0m in \u001b[0;36minsert_one\u001b[0;34m(self, document, bypass_document_validation)\u001b[0m\n\u001b[1;32m    628\u001b[0m             return InsertOneResult(\n\u001b[1;32m    629\u001b[0m                 self._insert(sock_info, document,\n\u001b[0;32m--> 630\u001b[0;31m                              bypass_doc_val=bypass_document_validation),\n\u001b[0m\u001b[1;32m    631\u001b[0m                 self.write_concern.acknowledged)\n\u001b[1;32m    632\u001b[0m \u001b[1;33m\u001b[0m\u001b[0m\n",
      "\u001b[0;32mC:\\Users\\rbl46509\\AppData\\Local\\Continuum\\Anaconda3\\lib\\site-packages\\pymongo\\collection.py\u001b[0m in \u001b[0;36m_insert\u001b[0;34m(self, sock_info, docs, ordered, check_keys, manipulate, write_concern, op_id, bypass_doc_val)\u001b[0m\n\u001b[1;32m    533\u001b[0m             return self._insert_one(\n\u001b[1;32m    534\u001b[0m                 \u001b[0msock_info\u001b[0m\u001b[1;33m,\u001b[0m \u001b[0mdocs\u001b[0m\u001b[1;33m,\u001b[0m \u001b[0mordered\u001b[0m\u001b[1;33m,\u001b[0m\u001b[1;33m\u001b[0m\u001b[0m\n\u001b[0;32m--> 535\u001b[0;31m                 check_keys, manipulate, write_concern, op_id, bypass_doc_val)\n\u001b[0m\u001b[1;32m    536\u001b[0m \u001b[1;33m\u001b[0m\u001b[0m\n\u001b[1;32m    537\u001b[0m         \u001b[0mids\u001b[0m \u001b[1;33m=\u001b[0m \u001b[1;33m[\u001b[0m\u001b[1;33m]\u001b[0m\u001b[1;33m\u001b[0m\u001b[0m\n",
      "\u001b[0;32mC:\\Users\\rbl46509\\AppData\\Local\\Continuum\\Anaconda3\\lib\\site-packages\\pymongo\\collection.py\u001b[0m in \u001b[0;36m_insert_one\u001b[0;34m(self, sock_info, doc, ordered, check_keys, manipulate, write_concern, op_id, bypass_doc_val)\u001b[0m\n\u001b[1;32m    515\u001b[0m                 \u001b[0mcodec_options\u001b[0m\u001b[1;33m=\u001b[0m\u001b[0mself\u001b[0m\u001b[1;33m.\u001b[0m\u001b[0m__write_response_codec_options\u001b[0m\u001b[1;33m,\u001b[0m\u001b[1;33m\u001b[0m\u001b[0m\n\u001b[1;32m    516\u001b[0m                 check_keys=check_keys)\n\u001b[0;32m--> 517\u001b[0;31m             \u001b[0m_check_write_command_response\u001b[0m\u001b[1;33m(\u001b[0m\u001b[1;33m[\u001b[0m\u001b[1;33m(\u001b[0m\u001b[1;36m0\u001b[0m\u001b[1;33m,\u001b[0m \u001b[0mresult\u001b[0m\u001b[1;33m)\u001b[0m\u001b[1;33m]\u001b[0m\u001b[1;33m)\u001b[0m\u001b[1;33m\u001b[0m\u001b[0m\n\u001b[0m\u001b[1;32m    518\u001b[0m         \u001b[1;32melse\u001b[0m\u001b[1;33m:\u001b[0m\u001b[1;33m\u001b[0m\u001b[0m\n\u001b[1;32m    519\u001b[0m             \u001b[1;31m# Legacy OP_INSERT.\u001b[0m\u001b[1;33m\u001b[0m\u001b[1;33m\u001b[0m\u001b[0m\n",
      "\u001b[0;32mC:\\Users\\rbl46509\\AppData\\Local\\Continuum\\Anaconda3\\lib\\site-packages\\pymongo\\helpers.py\u001b[0m in \u001b[0;36m_check_write_command_response\u001b[0;34m(results)\u001b[0m\n\u001b[1;32m    307\u001b[0m             \u001b[0merror\u001b[0m\u001b[1;33m[\u001b[0m\u001b[1;34m\"index\"\u001b[0m\u001b[1;33m]\u001b[0m \u001b[1;33m+=\u001b[0m \u001b[0moffset\u001b[0m\u001b[1;33m\u001b[0m\u001b[0m\n\u001b[1;32m    308\u001b[0m             \u001b[1;32mif\u001b[0m \u001b[0merror\u001b[0m\u001b[1;33m.\u001b[0m\u001b[0mget\u001b[0m\u001b[1;33m(\u001b[0m\u001b[1;34m\"code\"\u001b[0m\u001b[1;33m)\u001b[0m \u001b[1;33m==\u001b[0m \u001b[1;36m11000\u001b[0m\u001b[1;33m:\u001b[0m\u001b[1;33m\u001b[0m\u001b[0m\n\u001b[0;32m--> 309\u001b[0;31m                 \u001b[1;32mraise\u001b[0m \u001b[0mDuplicateKeyError\u001b[0m\u001b[1;33m(\u001b[0m\u001b[0merror\u001b[0m\u001b[1;33m.\u001b[0m\u001b[0mget\u001b[0m\u001b[1;33m(\u001b[0m\u001b[1;34m\"errmsg\"\u001b[0m\u001b[1;33m)\u001b[0m\u001b[1;33m,\u001b[0m \u001b[1;36m11000\u001b[0m\u001b[1;33m,\u001b[0m \u001b[0merror\u001b[0m\u001b[1;33m)\u001b[0m\u001b[1;33m\u001b[0m\u001b[0m\n\u001b[0m\u001b[1;32m    310\u001b[0m             \u001b[1;32mraise\u001b[0m \u001b[0mWriteError\u001b[0m\u001b[1;33m(\u001b[0m\u001b[0merror\u001b[0m\u001b[1;33m.\u001b[0m\u001b[0mget\u001b[0m\u001b[1;33m(\u001b[0m\u001b[1;34m\"errmsg\"\u001b[0m\u001b[1;33m)\u001b[0m\u001b[1;33m,\u001b[0m \u001b[0merror\u001b[0m\u001b[1;33m.\u001b[0m\u001b[0mget\u001b[0m\u001b[1;33m(\u001b[0m\u001b[1;34m\"code\"\u001b[0m\u001b[1;33m)\u001b[0m\u001b[1;33m,\u001b[0m \u001b[0merror\u001b[0m\u001b[1;33m)\u001b[0m\u001b[1;33m\u001b[0m\u001b[0m\n\u001b[1;32m    311\u001b[0m         \u001b[1;32melse\u001b[0m\u001b[1;33m:\u001b[0m\u001b[1;33m\u001b[0m\u001b[0m\n",
      "\u001b[0;31mDuplicateKeyError\u001b[0m: E11000 duplicate key error collection: primer.restaurants index: _id_ dup key: { : \"CCCCCC-111111-222222-EEEEEE\" }"
     ]
    }
   ],
   "source": [
    "\"\"\"\n",
    "Insert data with PyMongo\n",
    "\"\"\"\n",
    "from datetime import datetime\n",
    "\n",
    "result = db.restaurants.insert_one(\n",
    "    {\n",
    "        \"_id\": 'CCCCCC-111111-222222-EEEEEE',\n",
    "        \"address\": {\n",
    "            \"street\": \"3 Avenue\",\n",
    "            \"zipcode\": \"10075\",\n",
    "            \"building\": \"1480\",\n",
    "            \"coord\": [-73.9557413, 40.7720266]\n",
    "        },\n",
    "        \"borough\": \"San Francisco\",\n",
    "        \"cuisine\": \"Chinese\",\n",
    "        \"grades\": [\n",
    "            {\n",
    "                \"date\": datetime.strptime(\"2014-04-01\", \"%Y-%m-%d\"),\n",
    "                \"grade\": \"A+\",\n",
    "                \"score\": 16\n",
    "            },\n",
    "        ],\n",
    "        \"name\": \"Mama Ji's\",\n",
    "        \"restaurant_id\": \"41704620\"\n",
    "    }\n",
    ")\n",
    "\n",
    "print(result.inserted_id)"
   ]
  },
  {
   "cell_type": "code",
   "execution_count": 8,
   "metadata": {
    "collapsed": false
   },
   "outputs": [
    {
     "name": "stdout",
     "output_type": "stream",
     "text": [
      "ALL DOCUMENTS\n",
      "------------------------------------------------------------------------------------------\n",
      "{'_id': 'AAAAAA-111111-222222-EEEEEE', 'address': {'building': '1480', 'coord': [-73.9557413, 40.7720266], 'zipcode': '10075', 'street': '2 Avenue'}, 'name': 'Vella', 'cuisine': 'Italian', 'restaurant_id': '41704620', 'borough': 'Manhattan', 'grades': [{'date': datetime.datetime(2014, 10, 1, 0, 0), 'grade': 'A', 'score': 11}, {'date': datetime.datetime(2014, 1, 16, 0, 0), 'grade': 'B', 'score': 17}]}\n",
      "------------------------------------------------------------------------------------------\n",
      "{'_id': 'BBBBBB-111111-222222-EEEEEE', 'address': {'building': '1480', 'coord': [-73.9557413, 40.7720266], 'zipcode': '10075', 'street': '3 Avenue'}, 'name': 'City Kitchen', 'cuisine': 'Chinese', 'restaurant_id': '41704620', 'borough': 'Boston', 'grades': [{'date': datetime.datetime(2014, 4, 1, 0, 0), 'grade': 'C', 'score': 7}]}\n",
      "------------------------------------------------------------------------------------------\n",
      "{'_id': 'CCCCCC-111111-222222-EEEEEE', 'address': {'building': '1480', 'coord': [-73.9557413, 40.7720266], 'zipcode': '10075', 'street': '3 Avenue'}, 'name': \"Mama Ji's\", 'cuisine': 'Chinese', 'restaurant_id': '41704620', 'borough': 'San Francisco', 'grades': [{'date': datetime.datetime(2014, 4, 1, 0, 0), 'grade': 'A+', 'score': 16}]}\n",
      "==========================================================================================\n",
      "SCORE > 10\n",
      "------------------------------------------------------------------------------------------\n",
      "{'_id': 'AAAAAA-111111-222222-EEEEEE', 'address': {'building': '1480', 'coord': [-73.9557413, 40.7720266], 'zipcode': '10075', 'street': '2 Avenue'}, 'name': 'Vella', 'cuisine': 'Italian', 'restaurant_id': '41704620', 'borough': 'Manhattan', 'grades': [{'date': datetime.datetime(2014, 10, 1, 0, 0), 'grade': 'A', 'score': 11}, {'date': datetime.datetime(2014, 1, 16, 0, 0), 'grade': 'B', 'score': 17}]}\n",
      "------------------------------------------------------------------------------------------\n",
      "{'_id': 'CCCCCC-111111-222222-EEEEEE', 'address': {'building': '1480', 'coord': [-73.9557413, 40.7720266], 'zipcode': '10075', 'street': '3 Avenue'}, 'name': \"Mama Ji's\", 'cuisine': 'Chinese', 'restaurant_id': '41704620', 'borough': 'San Francisco', 'grades': [{'date': datetime.datetime(2014, 4, 1, 0, 0), 'grade': 'A+', 'score': 16}]}\n",
      "==========================================================================================\n",
      "CHINESE and SCORE < 10\n",
      "------------------------------------------------------------------------------------------\n",
      "{'_id': 'BBBBBB-111111-222222-EEEEEE', 'address': {'building': '1480', 'coord': [-73.9557413, 40.7720266], 'zipcode': '10075', 'street': '3 Avenue'}, 'name': 'City Kitchen', 'cuisine': 'Chinese', 'restaurant_id': '41704620', 'borough': 'Boston', 'grades': [{'date': datetime.datetime(2014, 4, 1, 0, 0), 'grade': 'C', 'score': 7}]}\n",
      "==========================================================================================\n",
      "ITALIEN or SCORE > 12\n",
      "------------------------------------------------------------------------------------------\n",
      "{'_id': 'AAAAAA-111111-222222-EEEEEE', 'address': {'building': '1480', 'coord': [-73.9557413, 40.7720266], 'zipcode': '10075', 'street': '2 Avenue'}, 'name': 'Vella', 'cuisine': 'Italian', 'restaurant_id': '41704620', 'borough': 'Manhattan', 'grades': [{'date': datetime.datetime(2014, 10, 1, 0, 0), 'grade': 'A', 'score': 11}, {'date': datetime.datetime(2014, 1, 16, 0, 0), 'grade': 'B', 'score': 17}]}\n",
      "------------------------------------------------------------------------------------------\n",
      "{'_id': 'CCCCCC-111111-222222-EEEEEE', 'address': {'building': '1480', 'coord': [-73.9557413, 40.7720266], 'zipcode': '10075', 'street': '3 Avenue'}, 'name': \"Mama Ji's\", 'cuisine': 'Chinese', 'restaurant_id': '41704620', 'borough': 'San Francisco', 'grades': [{'date': datetime.datetime(2014, 4, 1, 0, 0), 'grade': 'A+', 'score': 16}]}\n",
      "==========================================================================================\n"
     ]
    }
   ],
   "source": [
    "\"\"\"\n",
    "Find or query data with pymongo\n",
    "\"\"\"\n",
    "\n",
    "# Find all documents in database\n",
    "print('ALL DOCUMENTS')\n",
    "cursor = db.restaurants.find()\n",
    "for document in cursor:\n",
    "    print('-'*90)\n",
    "    print(document)\n",
    "print('='*90)\n",
    "    \n",
    "# IF: Find all documents with a score > than 10\n",
    "print('SCORE > 10')\n",
    "cursor = db.restaurants.find({\"grades.score\": {\"$gt\": 10}})\n",
    "for document in cursor:\n",
    "    print('-'*90)\n",
    "    print(document)\n",
    "print('='*90)\n",
    "\n",
    "# AND: Find all Chinese restaurants with a score < 10\n",
    "print('CHINESE and SCORE < 10')\n",
    "cursor = db.restaurants.find({\"grades.score\": {\"$lt\": 10}, \"cuisine\": \"Chinese\"})\n",
    "for document in cursor:\n",
    "    print('-'*90)\n",
    "    print(document)\n",
    "print('='*90)\n",
    "\n",
    "# OR: Find all restaruants that have a score > 12 or are italien\n",
    "\n",
    "print('ITALIEN or SCORE > 12')\n",
    "cursor = db.restaurants.find({\"$or\": [{\"grades.score\": {\"$gt\": 12}}, {\"cuisine\": \"Italian\"}]})\n",
    "for document in cursor:\n",
    "    print('-'*90)\n",
    "    print(document)\n",
    "print('='*90)"
   ]
  },
  {
   "cell_type": "code",
   "execution_count": 13,
   "metadata": {
    "collapsed": false
   },
   "outputs": [],
   "source": []
  },
  {
   "cell_type": "code",
   "execution_count": 46,
   "metadata": {
    "collapsed": false
   },
   "outputs": [
    {
     "name": "stdout",
     "output_type": "stream",
     "text": [
      "------------------------------------------------------------------------------------------\n",
      "{'grades': [{'grade': 'C', 'date': datetime.datetime(2014, 4, 1, 0, 0), 'score': 7}], 'name': 'City Kitchen', '_id': 'BBBBBB-111111-222222-EEEEEE', 'borough': 'Boston', 'cuisine': 'Chinese', 'restaurant_id': '41704620', 'address': {'building': '1480', 'street': '3 Avenue', 'coord': [-73.9557413, 40.7720266], 'zipcode': '10075'}}\n",
      "------------------------------------------------------------------------------------------\n",
      "{'grades': [{'grade': 'A+', 'date': datetime.datetime(2014, 4, 1, 0, 0), 'score': 16}], 'name': \"Mama Ji's\", '_id': 'CCCCCC-111111-222222-EEEEEE', 'borough': 'San Francisco', 'cuisine': 'Chinese', 'restaurant_id': '41704620', 'address': {'building': '1480', 'street': '3 Avenue', 'coord': [-73.9557413, 40.7720266], 'zipcode': '10075'}}\n",
      "------------------------------------------------------------------------------------------\n",
      "{'grades': [{'grade': 'A', 'date': datetime.datetime(2014, 10, 1, 0, 0), 'score': 11}, {'grade': 'B', 'date': datetime.datetime(2014, 1, 16, 0, 0), 'score': 17}], 'name': 'Vella', '_id': 'AAAAAA-111111-222222-EEEEEE', 'borough': 'Manhattan', 'cuisine': 'Italian', 'restaurant_id': '41704620', 'address': {'building': '1480', 'street': '2 Avenue', 'coord': [-73.9557413, 40.7720266], 'zipcode': '10075'}}\n"
     ]
    }
   ],
   "source": [
    "\"\"\"\n",
    "Sort query results, first by score and then by name.\n",
    "\"\"\"\n",
    "import pymongo\n",
    "\n",
    "cursor = db.restaurants.find().sort([\n",
    "    (\"score\", pymongo.ASCENDING),\n",
    "    (\"name\", pymongo.ASCENDING)\n",
    "])\n",
    "for document in cursor:\n",
    "    print('-'*90)\n",
    "    print(document)"
   ]
  },
  {
   "cell_type": "code",
   "execution_count": 31,
   "metadata": {
    "collapsed": false
   },
   "outputs": [
    {
     "data": {
      "text/plain": [
       "True"
      ]
     },
     "execution_count": 31,
     "metadata": {},
     "output_type": "execute_result"
    }
   ],
   "source": [
    "\"\"\"\n",
    "Update data with PyMongo\n",
    "\"\"\"\n"
   ]
  },
  {
   "cell_type": "code",
   "execution_count": null,
   "metadata": {
    "collapsed": true
   },
   "outputs": [],
   "source": []
  }
 ],
 "metadata": {
  "anaconda-cloud": {},
  "kernelspec": {
   "display_name": "Python [conda root]",
   "language": "python",
   "name": "conda-root-py"
  },
  "language_info": {
   "codemirror_mode": {
    "name": "ipython",
    "version": 3
   },
   "file_extension": ".py",
   "mimetype": "text/x-python",
   "name": "python",
   "nbconvert_exporter": "python",
   "pygments_lexer": "ipython3",
   "version": "3.5.2"
  }
 },
 "nbformat": 4,
 "nbformat_minor": 1
}
