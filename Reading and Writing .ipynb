{
 "cells": [
  {
   "cell_type": "markdown",
   "metadata": {},
   "source": [
    "Reading and writing various file types\n",
    "============================\n",
    "\n",
    "In this notebook we cover:\n",
    "- Text files\n",
    "- URLs\n",
    "- XML\n",
    "- JSON\n",
    "- CSVs (csv module)\n",
    "- Pickles\n"
   ]
  },
  {
   "cell_type": "markdown",
   "metadata": {},
   "source": [
    "Read data from text file\n",
    "---------------------"
   ]
  },
  {
   "cell_type": "code",
   "execution_count": 25,
   "metadata": {
    "collapsed": true
   },
   "outputs": [],
   "source": [
    "with open('sample/example.txt', 'r') as f:\n",
    "    text = f.readlines()"
   ]
  },
  {
   "cell_type": "markdown",
   "metadata": {},
   "source": [
    "Read a newline separated list from a text file\n",
    "-----------------"
   ]
  },
  {
   "cell_type": "code",
   "execution_count": null,
   "metadata": {
    "collapsed": true
   },
   "outputs": [],
   "source": [
    "text = []\n",
    "with open('sample/example.txt', 'r') as f:\n",
    "    raw_text = f.readlines()\n",
    "    for line in raw_text:\n",
    "        if line.endswith('\\n'):\n",
    "            text.append(line[0:-1])\n",
    "        else:\n",
    "            text.append(line)"
   ]
  },
  {
   "cell_type": "markdown",
   "metadata": {},
   "source": [
    "Write data to text file\n",
    "----------------"
   ]
  },
  {
   "cell_type": "code",
   "execution_count": 26,
   "metadata": {
    "collapsed": true
   },
   "outputs": [],
   "source": [
    "with open('sample/example.txt', 'w') as f:\n",
    "    for line in text:\n",
    "        f.write(line + '\\n') "
   ]
  },
  {
   "cell_type": "markdown",
   "metadata": {},
   "source": [
    "Read data from url\n",
    "---------------------\n",
    "\n",
    "Grab a page from the GtR website as an example"
   ]
  },
  {
   "cell_type": "code",
   "execution_count": 1,
   "metadata": {
    "collapsed": false
   },
   "outputs": [],
   "source": [
    "import urllib.request as request\n",
    "page = request.urlopen('http://gtr.rcuk.ac.uk/gtr/api/projects.json?p=1')\n",
    "page = page.read().decode('utf-8')"
   ]
  },
  {
   "cell_type": "markdown",
   "metadata": {},
   "source": [
    "Read from XML string\n",
    "--------------"
   ]
  },
  {
   "cell_type": "code",
   "execution_count": 29,
   "metadata": {
    "collapsed": true
   },
   "outputs": [],
   "source": [
    "import xml.etree.ElementTree as ET\n",
    "\n",
    "xml_string = \"\"\"\n",
    "<data>\n",
    "    <country name=\"Liechtenstein\">\n",
    "        <rank>1</rank>\n",
    "    </country>\n",
    "    <country name=\"Singapore\">\n",
    "        <rank>4</rank>\n",
    "    </country>\n",
    "</data>\n",
    "\"\"\"\n",
    "root = ET.fromstring(xml_string)"
   ]
  },
  {
   "cell_type": "markdown",
   "metadata": {},
   "source": [
    "Read from XML file\n",
    "---------------------"
   ]
  },
  {
   "cell_type": "code",
   "execution_count": 30,
   "metadata": {
    "collapsed": true
   },
   "outputs": [],
   "source": [
    "import xml.etree.ElementTree as ET\n",
    "tree = ET.parse('sample/example.xml')\n",
    "root = tree.getroot()"
   ]
  },
  {
   "cell_type": "markdown",
   "metadata": {},
   "source": [
    "Write to XML file\n",
    "--------------"
   ]
  },
  {
   "cell_type": "code",
   "execution_count": 31,
   "metadata": {
    "collapsed": true
   },
   "outputs": [],
   "source": [
    "tree.write('sample/example.xml')"
   ]
  },
  {
   "cell_type": "markdown",
   "metadata": {},
   "source": [
    "\n",
    "Read from json file\n",
    "---------------------"
   ]
  },
  {
   "cell_type": "code",
   "execution_count": 19,
   "metadata": {
    "collapsed": false
   },
   "outputs": [],
   "source": [
    "import json\n",
    "with open('sample/example.json', 'r') as f:\n",
    "     project = json.load(f)"
   ]
  },
  {
   "cell_type": "markdown",
   "metadata": {},
   "source": [
    "Write to json file\n",
    "-----------------\n"
   ]
  },
  {
   "cell_type": "code",
   "execution_count": 21,
   "metadata": {
    "collapsed": false
   },
   "outputs": [],
   "source": [
    "import json\n",
    "with open('sample/example.json', 'w') as f:\n",
    "    json.dump(project, f, indent=2)"
   ]
  },
  {
   "cell_type": "markdown",
   "metadata": {},
   "source": [
    "Read from csv file\n",
    "------------------"
   ]
  },
  {
   "cell_type": "code",
   "execution_count": 4,
   "metadata": {
    "collapsed": false
   },
   "outputs": [
    {
     "name": "stdout",
     "output_type": "stream",
     "text": [
      "['id', 'Name', 'Type', 'Gender', 'Age']\n",
      "['1', 'Alice', 'Cat', 'F', '2']\n",
      "['2', 'Betty', 'Dog', 'F', '2']\n",
      "['3', 'Charlie', 'Cat', 'F', '8']\n",
      "['4', 'David', 'Rabbit', 'M', '3']\n",
      "['5', 'Ed', 'Cat', 'M', '4']\n",
      "['6', 'Fiona', 'Dog', 'F', '10']\n",
      "['7', 'Gerry', 'Dog', 'M', '6']\n",
      "['8', 'Haley', 'Hamster', 'F', '2']\n",
      "['9', 'Ian', 'Dog', 'M', '11']\n",
      "['10', 'Jacob', 'Cat', 'M', '17']\n"
     ]
    }
   ],
   "source": [
    "import csv\n",
    "with open('sample/example.csv', 'r') as f:\n",
    "    reader = csv.reader(f)\n",
    "    for row in reader:\n",
    "        print(row)"
   ]
  },
  {
   "cell_type": "markdown",
   "metadata": {},
   "source": [
    "Write to csv file\n",
    "---------------"
   ]
  },
  {
   "cell_type": "code",
   "execution_count": null,
   "metadata": {
    "collapsed": true
   },
   "outputs": [],
   "source": [
    "import csv\n",
    "to_write = [['id', 'Name', 'Type', 'Gender', 'Age'],\n",
    "            ['1', 'Alice', 'Cat', 'F', '2'],\n",
    "            ['2', 'Betty', 'Dog', 'F', '2'],\n",
    "            ['3', 'Charlie', 'Cat', 'F', '8'],\n",
    "            ['4', 'David', 'Rabbit', 'M', '3'],\n",
    "            ['5', 'Ed', 'Cat', 'M', '4'],\n",
    "            ['6', 'Fiona', 'Dog', 'F', '10'],\n",
    "            ['7', 'Gerry', 'Dog', 'M', '6'],\n",
    "            ['8', 'Haley', 'Hamster', 'F', '2'],\n",
    "            ['9', 'Ian', 'Dog', 'M', '11'],\n",
    "            ['10', 'Jacob', 'Cat', 'M', '17']]\n",
    "\n",
    "with open('sample/example.csv', 'w', newline='') as f:\n",
    "    # In python 2, could use 'wb' to ensure that writing happened without blank lines in between. This also\n",
    "    # cause you to append to existing files rather than overwriting them. In python 3, newline= '' is used instead\n",
    "    writer = csv.writer(f)\n",
    "    for row in to_write:\n",
    "        writer.writerow(row)"
   ]
  },
  {
   "cell_type": "markdown",
   "metadata": {},
   "source": [
    "Read from csv file with pandas\n",
    "-----------------------"
   ]
  },
  {
   "cell_type": "code",
   "execution_count": 10,
   "metadata": {
    "collapsed": false
   },
   "outputs": [
    {
     "data": {
      "text/plain": [
       "0    F\n",
       "1    F\n",
       "2    F\n",
       "3    M\n",
       "4    M\n",
       "5    F\n",
       "6    M\n",
       "7    F\n",
       "8    M\n",
       "9    M\n",
       "Name: Gender, dtype: object"
      ]
     },
     "execution_count": 10,
     "metadata": {},
     "output_type": "execute_result"
    }
   ],
   "source": [
    "import pandas as pd\n",
    "df = pd.read_csv('sample/example.csv')\n",
    "df.Gender"
   ]
  },
  {
   "cell_type": "markdown",
   "metadata": {},
   "source": [
    "Read from Pickle file\n",
    "----------------"
   ]
  },
  {
   "cell_type": "code",
   "execution_count": 8,
   "metadata": {
    "collapsed": false
   },
   "outputs": [
    {
     "name": "stdout",
     "output_type": "stream",
     "text": [
      "['spam', 'eggs', 'ham']\n"
     ]
    }
   ],
   "source": [
    "import pickle\n",
    "example = pickle.load(open(\"sample/example.p\", \"rb\"))\n",
    "print(example)"
   ]
  },
  {
   "cell_type": "markdown",
   "metadata": {},
   "source": [
    "Write to Pickle file\n",
    "-----------------"
   ]
  },
  {
   "cell_type": "code",
   "execution_count": 6,
   "metadata": {
    "collapsed": true
   },
   "outputs": [],
   "source": [
    "example = ['spam', 'eggs', 'ham']\n",
    "pickle.dump(example, open( \"sample/example.p\", \"wb\"))"
   ]
  },
  {
   "cell_type": "code",
   "execution_count": null,
   "metadata": {
    "collapsed": true
   },
   "outputs": [],
   "source": []
  }
 ],
 "metadata": {
  "anaconda-cloud": {},
  "kernelspec": {
   "display_name": "Python [conda root]",
   "language": "python",
   "name": "conda-root-py"
  },
  "language_info": {
   "codemirror_mode": {
    "name": "ipython",
    "version": 3
   },
   "file_extension": ".py",
   "mimetype": "text/x-python",
   "name": "python",
   "nbconvert_exporter": "python",
   "pygments_lexer": "ipython3",
   "version": "3.5.2"
  }
 },
 "nbformat": 4,
 "nbformat_minor": 1
}
